{
 "cells": [
  {
   "cell_type": "markdown",
   "metadata": {},
   "source": [
    "# Introducción"
   ]
  },
  {
   "cell_type": "markdown",
   "metadata": {},
   "source": [
    "## ¿Qué es Python?\n",
    "\n",
    "Python es un lenguaje de programación orientado a **objetos**, fue creado en los 80s con el propósito de ser un lenguaje de programación que no sólo pudieran leer los ordenadores sino también las personas.  \n",
    "  \n",
    "Si bien Python no es el lenguaje de programación más eficiente computacionalmente se ha convertido en los últimos años en uno de los lenguajes de programación más utilizados por su facilidad de uso y por el rápido aumento de la capacidad computacional de los ordenadores modernos. Otra ventaja importante es el ahorro de tiempo humano que es más valioso que el tiempo computacional."
   ]
  },
  {
   "cell_type": "markdown",
   "metadata": {},
   "source": [
    "## ¿En qué nos vamos a centrar?\n",
    "Vamos a aprender a hacer lo suficiente para ser competentes en el análisis de datos y la manipulación de ellos. No vamos a ver nada orientado al desarrollo de software público ni interfaces de usuario. Buscaremos formas de resolver problemas que se nos pueden presentar en nuestro futuro profesional como empleados, y ojalá líderes, de la era de la información"
   ]
  },
  {
   "cell_type": "markdown",
   "metadata": {},
   "source": [
    "## Y, ¿Quién soy yo?\n",
    "Honestamente, nadie importante. Aprendí a programar por mi cuenta por mera curiosidad. Sólo les digo esto para que se den cuenta de que no se necesitan clases ni profesores para aprender a programar, en mi opinión es mejor aprender de la gran comunidad de programadores que reside en internet. Mis mejores aliados en mi camino de aprendizaje fueron [StackOverflow](https://stackoverflow.com), [Github](https://github.com/) y [reddit](https://www.reddit.com/r/Python/), lo único que piden a cambio de su conocimiento es reciprocidad y eso es más barato que un curso completo de programación teórica, en el que los que enseñan no saben las respuestas a los problemas espécificos con los que se encuentren."
   ]
  },
  {
   "cell_type": "markdown",
   "metadata": {},
   "source": [
    "## ¿Qué esperar cuando empiecen a programar?\n",
    "\n",
    "Equivocarse mucho, no saber que anda mal y no entender cómo solucionar un problema son cosas que les van a pasar mucho cuando aprendan a programar. Su peor enemigo serán los paréntesis, las comas, y los corchetes, pero con un poco de práctica aprenderán a resolver los problemas de la forma más eficiente posible"
   ]
  },
  {
   "cell_type": "markdown",
   "metadata": {},
   "source": [
    "## Ahora:"
   ]
  },
  {
   "cell_type": "code",
   "execution_count": 1,
   "metadata": {},
   "outputs": [
    {
     "name": "stdout",
     "output_type": "stream",
     "text": [
      "Empecemos\n"
     ]
    }
   ],
   "source": [
    "print('Empecemos')"
   ]
  }
 ],
 "metadata": {
  "kernelspec": {
   "display_name": "Python 3",
   "language": "python",
   "name": "python3"
  },
  "language_info": {
   "codemirror_mode": {
    "name": "ipython",
    "version": 3
   },
   "file_extension": ".py",
   "mimetype": "text/x-python",
   "name": "python",
   "nbconvert_exporter": "python",
   "pygments_lexer": "ipython3",
   "version": "3.7.3"
  }
 },
 "nbformat": 4,
 "nbformat_minor": 4
}
