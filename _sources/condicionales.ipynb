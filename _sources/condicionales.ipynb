{
 "cells": [
  {
   "cell_type": "markdown",
   "metadata": {},
   "source": [
    "# Condicionales "
   ]
  },
  {
   "cell_type": "markdown",
   "metadata": {},
   "source": [
    "## Booleanas\n",
    "\n",
    "Las booleanas son expresiones que pueden tomar valores verdaderos o falsos.  \n",
    "Se utilizan operadores lógicos como:\n",
    "\n",
    "* mayor: `>`\n",
    "* menor: `<`\n",
    "* igual: `==`\n",
    "* mayor o igual: `>=`\n",
    "* menor o igual: `<=`\n",
    "* `and`\n",
    "* `or`\n",
    "* `not`"
   ]
  },
  {
   "cell_type": "markdown",
   "metadata": {},
   "source": [
    "## Declaraciones if\n",
    "Las declaraciones `if` son de las herramientas más útiles que tiene un programador, sirven para generar reglas y normas que tu código va a seguir."
   ]
  },
  {
   "cell_type": "code",
   "execution_count": 1,
   "metadata": {},
   "outputs": [
    {
     "name": "stdout",
     "output_type": "stream",
     "text": [
      "n es positivo\n"
     ]
    }
   ],
   "source": [
    "n = 2\n",
    "if n > 0:\n",
    "    print('n es positivo')"
   ]
  },
  {
   "cell_type": "markdown",
   "metadata": {},
   "source": [
    "### `else`\n",
    "Podemos seguir una declaración `if` con `else` para decirle al ordenador que hacer en caso de que nuestro condicional sea falso."
   ]
  },
  {
   "cell_type": "code",
   "execution_count": 2,
   "metadata": {},
   "outputs": [
    {
     "name": "stdout",
     "output_type": "stream",
     "text": [
      "n es negativo\n"
     ]
    }
   ],
   "source": [
    "n = -5\n",
    "if n > 0:\n",
    "    print('n es positivo')\n",
    "else:\n",
    "    print('n es negativo')"
   ]
  },
  {
   "cell_type": "markdown",
   "metadata": {},
   "source": [
    "### Declaraciones `elif`\n",
    "Las declaraciones `elif` son una combinación de los dos tipos de declaraciones previas. Se utilizan para pasar una condición que seguir si la anterior es falsa."
   ]
  },
  {
   "cell_type": "code",
   "execution_count": 3,
   "metadata": {},
   "outputs": [
    {
     "name": "stdout",
     "output_type": "stream",
     "text": [
      "n es cero\n"
     ]
    }
   ],
   "source": [
    "n = 0\n",
    "if n > 0:\n",
    "    print('n es positivo')\n",
    "elif n == 0:\n",
    "    print('n es cero')\n",
    "else:\n",
    "    print('n es negativo')"
   ]
  }
 ],
 "metadata": {
  "kernelspec": {
   "display_name": "Python 3",
   "language": "python",
   "name": "python3"
  },
  "language_info": {
   "codemirror_mode": {
    "name": "ipython",
    "version": 3
   },
   "file_extension": ".py",
   "mimetype": "text/x-python",
   "name": "python",
   "nbconvert_exporter": "python",
   "pygments_lexer": "ipython3",
   "version": "3.7.3"
  }
 },
 "nbformat": 4,
 "nbformat_minor": 4
}
